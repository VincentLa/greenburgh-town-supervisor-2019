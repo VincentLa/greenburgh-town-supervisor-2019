{
 "cells": [
  {
   "cell_type": "markdown",
   "metadata": {},
   "source": [
    "# Cleaning Greenburgh, NY Police Data Sets"
   ]
  },
  {
   "cell_type": "code",
   "execution_count": 1,
   "metadata": {},
   "outputs": [],
   "source": [
    "import os\n",
    "\n",
    "import geocoder\n",
    "import numpy as np\n",
    "import pandas as pd\n",
    "from pyproj import Proj, transform"
   ]
  },
  {
   "cell_type": "code",
   "execution_count": 2,
   "metadata": {},
   "outputs": [],
   "source": [
    "directory = '/Users/VincentLa/git/greenburgh-town-supervisor-2019/src/data/school/budget/schooldistrict_all_years/'\n",
    "output_file = '/Users/VincentLa/git/greenburgh-town-supervisor-2019/output/school/greenburgh_school_districts_budget.csv'"
   ]
  },
  {
   "cell_type": "code",
   "execution_count": 3,
   "metadata": {},
   "outputs": [],
   "source": [
    "greenburgh_school_districts = [\n",
    "    'Ardsley Union Free School District',\n",
    "    'Dobbs Ferry Union Free School District',\n",
    "    'Edgemont Union Free School District',\n",
    "    'Elmsford Union Free School District',\n",
    "    'Greenburgh Central School District',\n",
    "    'Hastings-On-Hudson Union Free School District',\n",
    "    'Irvington Union Free School District',\n",
    "    'Union Free School District Of The Tarrytowns',\n",
    "]"
   ]
  },
  {
   "cell_type": "markdown",
   "metadata": {},
   "source": [
    "## Combining Data"
   ]
  },
  {
   "cell_type": "code",
   "execution_count": 4,
   "metadata": {},
   "outputs": [],
   "source": [
    "budget_all_years = []\n",
    "for file in os.listdir(directory):\n",
    "    if file.endswith('.csv'):\n",
    "        df = pd.read_csv(directory + file)\n",
    "        df = df.loc[df.ENTITY_NAME.isin(greenburgh_school_districts)]\n",
    "        df.reset_index(inplace=True)\n",
    "        budget_all_years.append(df)"
   ]
  },
  {
   "cell_type": "code",
   "execution_count": 5,
   "metadata": {},
   "outputs": [
    {
     "name": "stdout",
     "output_type": "stream",
     "text": [
      "(8,)\n",
      "(8,)\n",
      "(8,)\n",
      "(8,)\n",
      "(8,)\n",
      "(8,)\n",
      "(8,)\n",
      "(8,)\n",
      "(8,)\n",
      "(8,)\n",
      "(8,)\n",
      "(8,)\n",
      "(8,)\n",
      "(8,)\n",
      "(8,)\n",
      "(8,)\n",
      "(8,)\n",
      "(8,)\n",
      "(8,)\n",
      "(8,)\n",
      "(8,)\n",
      "(8,)\n",
      "(8,)\n",
      "(8,)\n"
     ]
    }
   ],
   "source": [
    "# Checking All School Districts exist in the dataset (none dropped out due to bad mismatch in names)\n",
    "for df in budget_all_years:\n",
    "    print(df.ENTITY_NAME.value_counts().shape)"
   ]
  },
  {
   "cell_type": "code",
   "execution_count": 6,
   "metadata": {},
   "outputs": [],
   "source": [
    "df = pd.concat(budget_all_years, ignore_index=True)"
   ]
  },
  {
   "cell_type": "code",
   "execution_count": 7,
   "metadata": {},
   "outputs": [],
   "source": [
    "df['Fiscal Year'] = df.CALENDAR_YEAR.map(str) + ' - ' + (df.CALENDAR_YEAR + 1).map(str)"
   ]
  },
  {
   "cell_type": "code",
   "execution_count": 8,
   "metadata": {},
   "outputs": [
    {
     "data": {
      "text/plain": [
       "EDUCATION                              17251\n",
       "GENERAL GOVERNMENT                      7818\n",
       "EMPLOYEE BENEFITS                       2193\n",
       "STATE AID                               1688\n",
       "USE AND SALE OF PROPERTY                1413\n",
       "OTHER LOCAL REVENUES                    1317\n",
       "DEBT SERVICE                            1199\n",
       "FEDERAL AID                             1168\n",
       "CHARGES FOR SERVICES                     499\n",
       "OTHER USES                               474\n",
       "OTHER SOURCES                            455\n",
       "CHARGES TO OTHER GOVERNMENTS             292\n",
       "OTHER REAL PROPERTY TAX ITEMS            287\n",
       "SALES AND USE TAX                        197\n",
       "REAL PROPERTY TAXES AND ASSESSMENTS      192\n",
       "PROCEEDS OF DEBT                         171\n",
       "CULTURE AND RECREATION                   156\n",
       "TRANSPORTATION                           139\n",
       "COMMUNITY SERVICES                       104\n",
       "SOCIAL SERVICES                            3\n",
       "Name: LEVEL_1_CATEGORY, dtype: int64"
      ]
     },
     "execution_count": 8,
     "metadata": {},
     "output_type": "execute_result"
    }
   ],
   "source": [
    "df['LEVEL_1_CATEGORY'].value_counts()"
   ]
  },
  {
   "cell_type": "code",
   "execution_count": 9,
   "metadata": {},
   "outputs": [
    {
     "data": {
      "text/plain": [
       "48       NaN\n",
       "60       NaN\n",
       "137      NaN\n",
       "138      NaN\n",
       "139      NaN\n",
       "        ... \n",
       "50354    NaN\n",
       "50355    NaN\n",
       "50356    NaN\n",
       "50357    NaN\n",
       "50358    NaN\n",
       "Name: LEVEL_1_CATEGORY, Length: 13343, dtype: object"
      ]
     },
     "execution_count": 9,
     "metadata": {},
     "output_type": "execute_result"
    }
   ],
   "source": [
    "df.loc[pd.isnull(df['LEVEL_1_CATEGORY']), 'LEVEL_1_CATEGORY']"
   ]
  },
  {
   "cell_type": "code",
   "execution_count": 10,
   "metadata": {},
   "outputs": [],
   "source": [
    "# When Level 1 and 2 Category is Null then take the account code narrative\n",
    "df.loc[pd.isnull(df['LEVEL_1_CATEGORY']), 'LEVEL_1_CATEGORY'] = df.loc[pd.isnull(df['LEVEL_1_CATEGORY']), 'ACCOUNT_CODE_NARRATIVE']\n",
    "df.loc[pd.isnull(df['LEVEL_2_CATEGORY']), 'LEVEL_2_CATEGORY'] = df.loc[pd.isnull(df['LEVEL_2_CATEGORY']), 'ACCOUNT_CODE_NARRATIVE']"
   ]
  },
  {
   "cell_type": "code",
   "execution_count": 11,
   "metadata": {},
   "outputs": [],
   "source": [
    "df.rename(columns={\n",
    "    'CALENDAR_YEAR': 'Year',\n",
    "    'MUNICIPAL_CODE':  'Municipal Code',\n",
    "    'ENTITY_NAME': 'School District',\n",
    "    'CLASS_DESCRIPTION': 'Class Description',\n",
    "    'COUNTY': 'County',\n",
    "    'ACCOUNT_CODE': 'Account Code',\n",
    "    'ACCOUNT_CODE_NARRATIVE': 'Account Code Narrative',\n",
    "    'FINANCIAL_STATEMENT': 'Financial Statement',\n",
    "    'FINANCIAL_STATEMENT_SEGMENT': 'Financial Statement Segment',\n",
    "    'LEVEL_1_CATEGORY': 'Level 1 Category',\n",
    "    'LEVEL_2_CATEGORY': 'Level 2 Category',\n",
    "    'OBJECT_OF_EXPENDITURE': 'Object of Expenditure',\n",
    "    'AMOUNT': 'Amount',\n",
    "}, inplace=True)"
   ]
  },
  {
   "cell_type": "code",
   "execution_count": 12,
   "metadata": {},
   "outputs": [
    {
     "data": {
      "text/html": [
       "<div>\n",
       "<style scoped>\n",
       "    .dataframe tbody tr th:only-of-type {\n",
       "        vertical-align: middle;\n",
       "    }\n",
       "\n",
       "    .dataframe tbody tr th {\n",
       "        vertical-align: top;\n",
       "    }\n",
       "\n",
       "    .dataframe thead th {\n",
       "        text-align: right;\n",
       "    }\n",
       "</style>\n",
       "<table border=\"1\" class=\"dataframe\">\n",
       "  <thead>\n",
       "    <tr style=\"text-align: right;\">\n",
       "      <th></th>\n",
       "      <th>index</th>\n",
       "      <th>Year</th>\n",
       "      <th>Municipal Code</th>\n",
       "      <th>School District</th>\n",
       "      <th>Class Description</th>\n",
       "      <th>County</th>\n",
       "      <th>FISCAL_YEAR_END</th>\n",
       "      <th>Account Code</th>\n",
       "      <th>Account Code Narrative</th>\n",
       "      <th>Financial Statement</th>\n",
       "      <th>Financial Statement Segment</th>\n",
       "      <th>Level 1 Category</th>\n",
       "      <th>Level 2 Category</th>\n",
       "      <th>Object of Expenditure</th>\n",
       "      <th>Amount</th>\n",
       "      <th>SNAPSHOT_DATE</th>\n",
       "      <th>Fiscal Year</th>\n",
       "    </tr>\n",
       "  </thead>\n",
       "  <tbody>\n",
       "    <tr>\n",
       "      <th>0</th>\n",
       "      <td>93783</td>\n",
       "      <td>2001</td>\n",
       "      <td>550634200500</td>\n",
       "      <td>Ardsley Union Free School District</td>\n",
       "      <td>School District - Independent Superintendent</td>\n",
       "      <td>Westchester</td>\n",
       "      <td>06/30</td>\n",
       "      <td>A1001</td>\n",
       "      <td>Real Property Taxes</td>\n",
       "      <td>STATEMENT OF REVENUES AND OTHER SOURCES</td>\n",
       "      <td>REVENUES</td>\n",
       "      <td>REAL PROPERTY TAXES AND ASSESSMENTS</td>\n",
       "      <td>REAL PROPERTY TAXES</td>\n",
       "      <td>NaN</td>\n",
       "      <td>17965391.0</td>\n",
       "      <td>31-JUL-19</td>\n",
       "      <td>2001 - 2002</td>\n",
       "    </tr>\n",
       "    <tr>\n",
       "      <th>1</th>\n",
       "      <td>93784</td>\n",
       "      <td>2001</td>\n",
       "      <td>550634200500</td>\n",
       "      <td>Ardsley Union Free School District</td>\n",
       "      <td>School District - Independent Superintendent</td>\n",
       "      <td>Westchester</td>\n",
       "      <td>06/30</td>\n",
       "      <td>A10104</td>\n",
       "      <td>Legislative Board, Contr Expend</td>\n",
       "      <td>STATEMENT OF EXPENDITURES AND OTHER USES</td>\n",
       "      <td>EXPENDITURES</td>\n",
       "      <td>GENERAL GOVERNMENT</td>\n",
       "      <td>ADMINISTRATION</td>\n",
       "      <td>Contractual</td>\n",
       "      <td>11440.0</td>\n",
       "      <td>31-JUL-19</td>\n",
       "      <td>2001 - 2002</td>\n",
       "    </tr>\n",
       "    <tr>\n",
       "      <th>2</th>\n",
       "      <td>93785</td>\n",
       "      <td>2001</td>\n",
       "      <td>550634200500</td>\n",
       "      <td>Ardsley Union Free School District</td>\n",
       "      <td>School District - Independent Superintendent</td>\n",
       "      <td>Westchester</td>\n",
       "      <td>06/30</td>\n",
       "      <td>A101045</td>\n",
       "      <td>Leg Board Supplies &amp; Material</td>\n",
       "      <td>STATEMENT OF EXPENDITURES AND OTHER USES</td>\n",
       "      <td>EXPENDITURES</td>\n",
       "      <td>GENERAL GOVERNMENT</td>\n",
       "      <td>ADMINISTRATION</td>\n",
       "      <td>Contractual</td>\n",
       "      <td>5401.0</td>\n",
       "      <td>31-JUL-19</td>\n",
       "      <td>2001 - 2002</td>\n",
       "    </tr>\n",
       "    <tr>\n",
       "      <th>3</th>\n",
       "      <td>93786</td>\n",
       "      <td>2001</td>\n",
       "      <td>550634200500</td>\n",
       "      <td>Ardsley Union Free School District</td>\n",
       "      <td>School District - Independent Superintendent</td>\n",
       "      <td>Westchester</td>\n",
       "      <td>06/30</td>\n",
       "      <td>A101049</td>\n",
       "      <td>Bd of Ed Boces Services</td>\n",
       "      <td>STATEMENT OF EXPENDITURES AND OTHER USES</td>\n",
       "      <td>EXPENDITURES</td>\n",
       "      <td>GENERAL GOVERNMENT</td>\n",
       "      <td>ADMINISTRATION</td>\n",
       "      <td>Contractual</td>\n",
       "      <td>238.0</td>\n",
       "      <td>31-JUL-19</td>\n",
       "      <td>2001 - 2002</td>\n",
       "    </tr>\n",
       "    <tr>\n",
       "      <th>4</th>\n",
       "      <td>93787</td>\n",
       "      <td>2001</td>\n",
       "      <td>550634200500</td>\n",
       "      <td>Ardsley Union Free School District</td>\n",
       "      <td>School District - Independent Superintendent</td>\n",
       "      <td>Westchester</td>\n",
       "      <td>06/30</td>\n",
       "      <td>A104016</td>\n",
       "      <td>Noninstructional Salaries</td>\n",
       "      <td>STATEMENT OF EXPENDITURES AND OTHER USES</td>\n",
       "      <td>EXPENDITURES</td>\n",
       "      <td>GENERAL GOVERNMENT</td>\n",
       "      <td>ADMINISTRATION</td>\n",
       "      <td>Personal Services</td>\n",
       "      <td>5500.0</td>\n",
       "      <td>31-JUL-19</td>\n",
       "      <td>2001 - 2002</td>\n",
       "    </tr>\n",
       "  </tbody>\n",
       "</table>\n",
       "</div>"
      ],
      "text/plain": [
       "   index  Year  Municipal Code                     School District  \\\n",
       "0  93783  2001    550634200500  Ardsley Union Free School District   \n",
       "1  93784  2001    550634200500  Ardsley Union Free School District   \n",
       "2  93785  2001    550634200500  Ardsley Union Free School District   \n",
       "3  93786  2001    550634200500  Ardsley Union Free School District   \n",
       "4  93787  2001    550634200500  Ardsley Union Free School District   \n",
       "\n",
       "                              Class Description       County FISCAL_YEAR_END  \\\n",
       "0  School District - Independent Superintendent  Westchester           06/30   \n",
       "1  School District - Independent Superintendent  Westchester           06/30   \n",
       "2  School District - Independent Superintendent  Westchester           06/30   \n",
       "3  School District - Independent Superintendent  Westchester           06/30   \n",
       "4  School District - Independent Superintendent  Westchester           06/30   \n",
       "\n",
       "  Account Code           Account Code Narrative  \\\n",
       "0        A1001              Real Property Taxes   \n",
       "1       A10104  Legislative Board, Contr Expend   \n",
       "2      A101045    Leg Board Supplies & Material   \n",
       "3      A101049          Bd of Ed Boces Services   \n",
       "4      A104016        Noninstructional Salaries   \n",
       "\n",
       "                        Financial Statement Financial Statement Segment  \\\n",
       "0   STATEMENT OF REVENUES AND OTHER SOURCES                    REVENUES   \n",
       "1  STATEMENT OF EXPENDITURES AND OTHER USES                EXPENDITURES   \n",
       "2  STATEMENT OF EXPENDITURES AND OTHER USES                EXPENDITURES   \n",
       "3  STATEMENT OF EXPENDITURES AND OTHER USES                EXPENDITURES   \n",
       "4  STATEMENT OF EXPENDITURES AND OTHER USES                EXPENDITURES   \n",
       "\n",
       "                      Level 1 Category     Level 2 Category  \\\n",
       "0  REAL PROPERTY TAXES AND ASSESSMENTS  REAL PROPERTY TAXES   \n",
       "1                   GENERAL GOVERNMENT       ADMINISTRATION   \n",
       "2                   GENERAL GOVERNMENT       ADMINISTRATION   \n",
       "3                   GENERAL GOVERNMENT       ADMINISTRATION   \n",
       "4                   GENERAL GOVERNMENT       ADMINISTRATION   \n",
       "\n",
       "  Object of Expenditure      Amount SNAPSHOT_DATE  Fiscal Year  \n",
       "0                   NaN  17965391.0     31-JUL-19  2001 - 2002  \n",
       "1           Contractual     11440.0     31-JUL-19  2001 - 2002  \n",
       "2           Contractual      5401.0     31-JUL-19  2001 - 2002  \n",
       "3           Contractual       238.0     31-JUL-19  2001 - 2002  \n",
       "4     Personal Services      5500.0     31-JUL-19  2001 - 2002  "
      ]
     },
     "execution_count": 12,
     "metadata": {},
     "output_type": "execute_result"
    }
   ],
   "source": [
    "df.head()"
   ]
  },
  {
   "cell_type": "code",
   "execution_count": 13,
   "metadata": {},
   "outputs": [
    {
     "ename": "KeyError",
     "evalue": "\"['Entity Name'] not in index\"",
     "output_type": "error",
     "traceback": [
      "\u001b[0;31m---------------------------------------------------------------------------\u001b[0m",
      "\u001b[0;31mKeyError\u001b[0m                                  Traceback (most recent call last)",
      "\u001b[0;32m<ipython-input-13-ecb9afbf3e8d>\u001b[0m in \u001b[0;36m<module>\u001b[0;34m\u001b[0m\n\u001b[1;32m     13\u001b[0m     \u001b[0;34m'Level 2 Category'\u001b[0m\u001b[0;34m,\u001b[0m\u001b[0;34m\u001b[0m\u001b[0m\n\u001b[1;32m     14\u001b[0m     \u001b[0;34m'Object of Expenditure'\u001b[0m\u001b[0;34m,\u001b[0m\u001b[0;34m\u001b[0m\u001b[0m\n\u001b[0;32m---> 15\u001b[0;31m     \u001b[0;34m'Amount'\u001b[0m\u001b[0;34m,\u001b[0m\u001b[0;34m\u001b[0m\u001b[0m\n\u001b[0m\u001b[1;32m     16\u001b[0m ]]\n",
      "\u001b[0;32m~/.pyenv/versions/3.6.2/envs/greenburgh/lib/python3.6/site-packages/pandas/core/frame.py\u001b[0m in \u001b[0;36m__getitem__\u001b[0;34m(self, key)\u001b[0m\n\u001b[1;32m   2979\u001b[0m             \u001b[0;32mif\u001b[0m \u001b[0mis_iterator\u001b[0m\u001b[0;34m(\u001b[0m\u001b[0mkey\u001b[0m\u001b[0;34m)\u001b[0m\u001b[0;34m:\u001b[0m\u001b[0;34m\u001b[0m\u001b[0m\n\u001b[1;32m   2980\u001b[0m                 \u001b[0mkey\u001b[0m \u001b[0;34m=\u001b[0m \u001b[0mlist\u001b[0m\u001b[0;34m(\u001b[0m\u001b[0mkey\u001b[0m\u001b[0;34m)\u001b[0m\u001b[0;34m\u001b[0m\u001b[0m\n\u001b[0;32m-> 2981\u001b[0;31m             \u001b[0mindexer\u001b[0m \u001b[0;34m=\u001b[0m \u001b[0mself\u001b[0m\u001b[0;34m.\u001b[0m\u001b[0mloc\u001b[0m\u001b[0;34m.\u001b[0m\u001b[0m_convert_to_indexer\u001b[0m\u001b[0;34m(\u001b[0m\u001b[0mkey\u001b[0m\u001b[0;34m,\u001b[0m \u001b[0maxis\u001b[0m\u001b[0;34m=\u001b[0m\u001b[0;36m1\u001b[0m\u001b[0;34m,\u001b[0m \u001b[0mraise_missing\u001b[0m\u001b[0;34m=\u001b[0m\u001b[0;32mTrue\u001b[0m\u001b[0;34m)\u001b[0m\u001b[0;34m\u001b[0m\u001b[0m\n\u001b[0m\u001b[1;32m   2982\u001b[0m \u001b[0;34m\u001b[0m\u001b[0m\n\u001b[1;32m   2983\u001b[0m         \u001b[0;31m# take() does not accept boolean indexers\u001b[0m\u001b[0;34m\u001b[0m\u001b[0;34m\u001b[0m\u001b[0m\n",
      "\u001b[0;32m~/.pyenv/versions/3.6.2/envs/greenburgh/lib/python3.6/site-packages/pandas/core/indexing.py\u001b[0m in \u001b[0;36m_convert_to_indexer\u001b[0;34m(self, obj, axis, is_setter, raise_missing)\u001b[0m\n\u001b[1;32m   1269\u001b[0m                 \u001b[0;31m# When setting, missing keys are not allowed, even with .loc:\u001b[0m\u001b[0;34m\u001b[0m\u001b[0;34m\u001b[0m\u001b[0m\n\u001b[1;32m   1270\u001b[0m                 \u001b[0mkwargs\u001b[0m \u001b[0;34m=\u001b[0m \u001b[0;34m{\u001b[0m\u001b[0;34m\"raise_missing\"\u001b[0m\u001b[0;34m:\u001b[0m \u001b[0;32mTrue\u001b[0m \u001b[0;32mif\u001b[0m \u001b[0mis_setter\u001b[0m \u001b[0;32melse\u001b[0m \u001b[0mraise_missing\u001b[0m\u001b[0;34m}\u001b[0m\u001b[0;34m\u001b[0m\u001b[0m\n\u001b[0;32m-> 1271\u001b[0;31m                 \u001b[0;32mreturn\u001b[0m \u001b[0mself\u001b[0m\u001b[0;34m.\u001b[0m\u001b[0m_get_listlike_indexer\u001b[0m\u001b[0;34m(\u001b[0m\u001b[0mobj\u001b[0m\u001b[0;34m,\u001b[0m \u001b[0maxis\u001b[0m\u001b[0;34m,\u001b[0m \u001b[0;34m**\u001b[0m\u001b[0mkwargs\u001b[0m\u001b[0;34m)\u001b[0m\u001b[0;34m[\u001b[0m\u001b[0;36m1\u001b[0m\u001b[0;34m]\u001b[0m\u001b[0;34m\u001b[0m\u001b[0m\n\u001b[0m\u001b[1;32m   1272\u001b[0m         \u001b[0;32melse\u001b[0m\u001b[0;34m:\u001b[0m\u001b[0;34m\u001b[0m\u001b[0m\n\u001b[1;32m   1273\u001b[0m             \u001b[0;32mtry\u001b[0m\u001b[0;34m:\u001b[0m\u001b[0;34m\u001b[0m\u001b[0m\n",
      "\u001b[0;32m~/.pyenv/versions/3.6.2/envs/greenburgh/lib/python3.6/site-packages/pandas/core/indexing.py\u001b[0m in \u001b[0;36m_get_listlike_indexer\u001b[0;34m(self, key, axis, raise_missing)\u001b[0m\n\u001b[1;32m   1076\u001b[0m \u001b[0;34m\u001b[0m\u001b[0m\n\u001b[1;32m   1077\u001b[0m         self._validate_read_indexer(\n\u001b[0;32m-> 1078\u001b[0;31m             \u001b[0mkeyarr\u001b[0m\u001b[0;34m,\u001b[0m \u001b[0mindexer\u001b[0m\u001b[0;34m,\u001b[0m \u001b[0mo\u001b[0m\u001b[0;34m.\u001b[0m\u001b[0m_get_axis_number\u001b[0m\u001b[0;34m(\u001b[0m\u001b[0maxis\u001b[0m\u001b[0;34m)\u001b[0m\u001b[0;34m,\u001b[0m \u001b[0mraise_missing\u001b[0m\u001b[0;34m=\u001b[0m\u001b[0mraise_missing\u001b[0m\u001b[0;34m\u001b[0m\u001b[0m\n\u001b[0m\u001b[1;32m   1079\u001b[0m         )\n\u001b[1;32m   1080\u001b[0m         \u001b[0;32mreturn\u001b[0m \u001b[0mkeyarr\u001b[0m\u001b[0;34m,\u001b[0m \u001b[0mindexer\u001b[0m\u001b[0;34m\u001b[0m\u001b[0m\n",
      "\u001b[0;32m~/.pyenv/versions/3.6.2/envs/greenburgh/lib/python3.6/site-packages/pandas/core/indexing.py\u001b[0m in \u001b[0;36m_validate_read_indexer\u001b[0;34m(self, key, indexer, axis, raise_missing)\u001b[0m\n\u001b[1;32m   1169\u001b[0m             \u001b[0;32mif\u001b[0m \u001b[0;32mnot\u001b[0m \u001b[0;34m(\u001b[0m\u001b[0mself\u001b[0m\u001b[0;34m.\u001b[0m\u001b[0mname\u001b[0m \u001b[0;34m==\u001b[0m \u001b[0;34m\"loc\"\u001b[0m \u001b[0;32mand\u001b[0m \u001b[0;32mnot\u001b[0m \u001b[0mraise_missing\u001b[0m\u001b[0;34m)\u001b[0m\u001b[0;34m:\u001b[0m\u001b[0;34m\u001b[0m\u001b[0m\n\u001b[1;32m   1170\u001b[0m                 \u001b[0mnot_found\u001b[0m \u001b[0;34m=\u001b[0m \u001b[0mlist\u001b[0m\u001b[0;34m(\u001b[0m\u001b[0mset\u001b[0m\u001b[0;34m(\u001b[0m\u001b[0mkey\u001b[0m\u001b[0;34m)\u001b[0m \u001b[0;34m-\u001b[0m \u001b[0mset\u001b[0m\u001b[0;34m(\u001b[0m\u001b[0max\u001b[0m\u001b[0;34m)\u001b[0m\u001b[0;34m)\u001b[0m\u001b[0;34m\u001b[0m\u001b[0m\n\u001b[0;32m-> 1171\u001b[0;31m                 \u001b[0;32mraise\u001b[0m \u001b[0mKeyError\u001b[0m\u001b[0;34m(\u001b[0m\u001b[0;34m\"{} not in index\"\u001b[0m\u001b[0;34m.\u001b[0m\u001b[0mformat\u001b[0m\u001b[0;34m(\u001b[0m\u001b[0mnot_found\u001b[0m\u001b[0;34m)\u001b[0m\u001b[0;34m)\u001b[0m\u001b[0;34m\u001b[0m\u001b[0m\n\u001b[0m\u001b[1;32m   1172\u001b[0m \u001b[0;34m\u001b[0m\u001b[0m\n\u001b[1;32m   1173\u001b[0m             \u001b[0;31m# we skip the warning on Categorical/Interval\u001b[0m\u001b[0;34m\u001b[0m\u001b[0;34m\u001b[0m\u001b[0m\n",
      "\u001b[0;31mKeyError\u001b[0m: \"['Entity Name'] not in index\""
     ]
    }
   ],
   "source": [
    "df = df[[\n",
    "    'Year',\n",
    "    'Fiscal Year',\n",
    "    'Municipal Code',\n",
    "    'Entity Name',\n",
    "    'Class Description',\n",
    "    'County',\n",
    "    'Account Code',\n",
    "    'Account Code Narrative',\n",
    "    'Financial Statement',\n",
    "    'Financial Statement Segment',\n",
    "    'Level 1 Category',\n",
    "    'Level 2 Category',\n",
    "    'Object of Expenditure',\n",
    "    'Amount',\n",
    "]]"
   ]
  },
  {
   "cell_type": "code",
   "execution_count": null,
   "metadata": {},
   "outputs": [],
   "source": [
    "df.head()"
   ]
  },
  {
   "cell_type": "markdown",
   "metadata": {},
   "source": []
  },
  {
   "cell_type": "code",
   "execution_count": null,
   "metadata": {},
   "outputs": [],
   "source": [
    "df.to_csv(output_file, index=False)"
   ]
  },
  {
   "cell_type": "code",
   "execution_count": null,
   "metadata": {},
   "outputs": [],
   "source": [
    "df['Level 2 Category'].value_counts()"
   ]
  },
  {
   "cell_type": "code",
   "execution_count": null,
   "metadata": {},
   "outputs": [],
   "source": []
  }
 ],
 "metadata": {
  "kernelspec": {
   "display_name": "Python 3",
   "language": "python",
   "name": "python3"
  },
  "language_info": {
   "codemirror_mode": {
    "name": "ipython",
    "version": 3
   },
   "file_extension": ".py",
   "mimetype": "text/x-python",
   "name": "python",
   "nbconvert_exporter": "python",
   "pygments_lexer": "ipython3",
   "version": "3.6.2"
  }
 },
 "nbformat": 4,
 "nbformat_minor": 2
}
